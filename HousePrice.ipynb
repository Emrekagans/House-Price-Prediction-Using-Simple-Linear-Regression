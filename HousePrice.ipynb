{
 "cells": [
  {
   "cell_type": "markdown",
   "id": "aa5fa64f-d217-4d85-9955-cc0543490f5f",
   "metadata": {},
   "source": [
    "# House Price"
   ]
  },
  {
   "cell_type": "markdown",
   "id": "781c865d-f680-4dae-96db-51e1e8aa4e12",
   "metadata": {},
   "source": [
    "## Theory"
   ]
  },
  {
   "cell_type": "markdown",
   "id": "49e598d6-0329-461d-bdcb-8e649daeaee9",
   "metadata": {},
   "source": [
    "* **The main objective is to find the linear function that expresses the relationship between the dependent and independent variable.**"
   ]
  },
  {
   "cell_type": "markdown",
   "id": "d0715d5d-6270-4f96-bc13-e1b124f0d739",
   "metadata": {},
   "source": [
    "## Model"
   ]
  },
  {
   "cell_type": "code",
   "execution_count": 1,
   "id": "24485b79-92bd-435f-8d82-f2145044f7b6",
   "metadata": {},
   "outputs": [
    {
     "data": {
      "text/html": [
       "<div>\n",
       "<style scoped>\n",
       "    .dataframe tbody tr th:only-of-type {\n",
       "        vertical-align: middle;\n",
       "    }\n",
       "\n",
       "    .dataframe tbody tr th {\n",
       "        vertical-align: top;\n",
       "    }\n",
       "\n",
       "    .dataframe thead th {\n",
       "        text-align: right;\n",
       "    }\n",
       "</style>\n",
       "<table border=\"1\" class=\"dataframe\">\n",
       "  <thead>\n",
       "    <tr style=\"text-align: right;\">\n",
       "      <th></th>\n",
       "      <th>HouseSize</th>\n",
       "      <th>Rooms</th>\n",
       "      <th>Price</th>\n",
       "    </tr>\n",
       "  </thead>\n",
       "  <tbody>\n",
       "    <tr>\n",
       "      <th>0</th>\n",
       "      <td>83</td>\n",
       "      <td>10</td>\n",
       "      <td>248218.31</td>\n",
       "    </tr>\n",
       "    <tr>\n",
       "      <th>1</th>\n",
       "      <td>229</td>\n",
       "      <td>7</td>\n",
       "      <td>381317.37</td>\n",
       "    </tr>\n",
       "    <tr>\n",
       "      <th>2</th>\n",
       "      <td>272</td>\n",
       "      <td>10</td>\n",
       "      <td>466820.88</td>\n",
       "    </tr>\n",
       "    <tr>\n",
       "      <th>3</th>\n",
       "      <td>187</td>\n",
       "      <td>5</td>\n",
       "      <td>320928.25</td>\n",
       "    </tr>\n",
       "    <tr>\n",
       "      <th>4</th>\n",
       "      <td>299</td>\n",
       "      <td>3</td>\n",
       "      <td>388367.41</td>\n",
       "    </tr>\n",
       "    <tr>\n",
       "      <th>...</th>\n",
       "      <td>...</td>\n",
       "      <td>...</td>\n",
       "      <td>...</td>\n",
       "    </tr>\n",
       "    <tr>\n",
       "      <th>145</th>\n",
       "      <td>106</td>\n",
       "      <td>1</td>\n",
       "      <td>158088.76</td>\n",
       "    </tr>\n",
       "    <tr>\n",
       "      <th>146</th>\n",
       "      <td>88</td>\n",
       "      <td>3</td>\n",
       "      <td>180259.56</td>\n",
       "    </tr>\n",
       "    <tr>\n",
       "      <th>147</th>\n",
       "      <td>158</td>\n",
       "      <td>4</td>\n",
       "      <td>274081.14</td>\n",
       "    </tr>\n",
       "    <tr>\n",
       "      <th>148</th>\n",
       "      <td>230</td>\n",
       "      <td>1</td>\n",
       "      <td>312092.92</td>\n",
       "    </tr>\n",
       "    <tr>\n",
       "      <th>149</th>\n",
       "      <td>91</td>\n",
       "      <td>1</td>\n",
       "      <td>164249.00</td>\n",
       "    </tr>\n",
       "  </tbody>\n",
       "</table>\n",
       "<p>150 rows × 3 columns</p>\n",
       "</div>"
      ],
      "text/plain": [
       "     HouseSize  Rooms      Price\n",
       "0           83     10  248218.31\n",
       "1          229      7  381317.37\n",
       "2          272     10  466820.88\n",
       "3          187      5  320928.25\n",
       "4          299      3  388367.41\n",
       "..         ...    ...        ...\n",
       "145        106      1  158088.76\n",
       "146         88      3  180259.56\n",
       "147        158      4  274081.14\n",
       "148        230      1  312092.92\n",
       "149         91      1  164249.00\n",
       "\n",
       "[150 rows x 3 columns]"
      ]
     },
     "execution_count": 1,
     "metadata": {},
     "output_type": "execute_result"
    }
   ],
   "source": [
    "import pandas as pd\n",
    "import numpy as np\n",
    "import seaborn as sns\n",
    "import statsmodels.api as sm\n",
    "import statsmodels.formula.api as smf\n",
    "import matplotlib.pyplot as plt\n",
    "from sklearn.linear_model import LinearRegression\n",
    "\n",
    "housePrice = pd.read_csv(\"house_price_dataset.csv\")\n",
    "df = housePrice.copy()\n",
    "df"
   ]
  },
  {
   "cell_type": "code",
   "execution_count": 2,
   "id": "6f4fadd1-0acc-4cfb-86fe-e8edd923feea",
   "metadata": {},
   "outputs": [
    {
     "name": "stdout",
     "output_type": "stream",
     "text": [
      "<class 'pandas.core.frame.DataFrame'>\n",
      "RangeIndex: 150 entries, 0 to 149\n",
      "Data columns (total 3 columns):\n",
      " #   Column     Non-Null Count  Dtype  \n",
      "---  ------     --------------  -----  \n",
      " 0   HouseSize  150 non-null    int64  \n",
      " 1   Rooms      150 non-null    int64  \n",
      " 2   Price      150 non-null    float64\n",
      "dtypes: float64(1), int64(2)\n",
      "memory usage: 3.6 KB\n"
     ]
    }
   ],
   "source": [
    "df.info()"
   ]
  },
  {
   "cell_type": "code",
   "execution_count": 3,
   "id": "45aca714-36ed-42f1-8be1-3623b4780c4d",
   "metadata": {},
   "outputs": [
    {
     "data": {
      "text/plain": [
       "False"
      ]
     },
     "execution_count": 3,
     "metadata": {},
     "output_type": "execute_result"
    }
   ],
   "source": [
    "df.isnull().values.any()"
   ]
  },
  {
   "cell_type": "code",
   "execution_count": 4,
   "id": "b5cd14c5-5d5f-477a-8f86-f996f62d8898",
   "metadata": {},
   "outputs": [
    {
     "data": {
      "text/html": [
       "<div>\n",
       "<style scoped>\n",
       "    .dataframe tbody tr th:only-of-type {\n",
       "        vertical-align: middle;\n",
       "    }\n",
       "\n",
       "    .dataframe tbody tr th {\n",
       "        vertical-align: top;\n",
       "    }\n",
       "\n",
       "    .dataframe thead th {\n",
       "        text-align: right;\n",
       "    }\n",
       "</style>\n",
       "<table border=\"1\" class=\"dataframe\">\n",
       "  <thead>\n",
       "    <tr style=\"text-align: right;\">\n",
       "      <th></th>\n",
       "      <th>count</th>\n",
       "      <th>mean</th>\n",
       "      <th>std</th>\n",
       "      <th>min</th>\n",
       "      <th>25%</th>\n",
       "      <th>50%</th>\n",
       "      <th>75%</th>\n",
       "      <th>max</th>\n",
       "    </tr>\n",
       "  </thead>\n",
       "  <tbody>\n",
       "    <tr>\n",
       "      <th>HouseSize</th>\n",
       "      <td>150.0</td>\n",
       "      <td>177.613333</td>\n",
       "      <td>72.752203</td>\n",
       "      <td>50.0</td>\n",
       "      <td>119.2500</td>\n",
       "      <td>181.50</td>\n",
       "      <td>235.7500</td>\n",
       "      <td>299.00</td>\n",
       "    </tr>\n",
       "    <tr>\n",
       "      <th>Rooms</th>\n",
       "      <td>150.0</td>\n",
       "      <td>5.413333</td>\n",
       "      <td>2.976838</td>\n",
       "      <td>1.0</td>\n",
       "      <td>3.0000</td>\n",
       "      <td>5.00</td>\n",
       "      <td>8.0000</td>\n",
       "      <td>10.00</td>\n",
       "    </tr>\n",
       "    <tr>\n",
       "      <th>Price</th>\n",
       "      <td>150.0</td>\n",
       "      <td>310581.277867</td>\n",
       "      <td>86387.330712</td>\n",
       "      <td>130520.3</td>\n",
       "      <td>262135.4975</td>\n",
       "      <td>313094.07</td>\n",
       "      <td>373724.4425</td>\n",
       "      <td>502252.12</td>\n",
       "    </tr>\n",
       "  </tbody>\n",
       "</table>\n",
       "</div>"
      ],
      "text/plain": [
       "           count           mean           std       min          25%  \\\n",
       "HouseSize  150.0     177.613333     72.752203      50.0     119.2500   \n",
       "Rooms      150.0       5.413333      2.976838       1.0       3.0000   \n",
       "Price      150.0  310581.277867  86387.330712  130520.3  262135.4975   \n",
       "\n",
       "                 50%          75%        max  \n",
       "HouseSize     181.50     235.7500     299.00  \n",
       "Rooms           5.00       8.0000      10.00  \n",
       "Price      313094.07  373724.4425  502252.12  "
      ]
     },
     "execution_count": 4,
     "metadata": {},
     "output_type": "execute_result"
    }
   ],
   "source": [
    "df.describe().T"
   ]
  },
  {
   "cell_type": "code",
   "execution_count": 5,
   "id": "c48e93f3-2a0b-4f29-abac-b8063a122eac",
   "metadata": {},
   "outputs": [
    {
     "data": {
      "text/html": [
       "<div>\n",
       "<style scoped>\n",
       "    .dataframe tbody tr th:only-of-type {\n",
       "        vertical-align: middle;\n",
       "    }\n",
       "\n",
       "    .dataframe tbody tr th {\n",
       "        vertical-align: top;\n",
       "    }\n",
       "\n",
       "    .dataframe thead th {\n",
       "        text-align: right;\n",
       "    }\n",
       "</style>\n",
       "<table border=\"1\" class=\"dataframe\">\n",
       "  <thead>\n",
       "    <tr style=\"text-align: right;\">\n",
       "      <th></th>\n",
       "      <th>HouseSize</th>\n",
       "      <th>Rooms</th>\n",
       "      <th>Price</th>\n",
       "    </tr>\n",
       "  </thead>\n",
       "  <tbody>\n",
       "    <tr>\n",
       "      <th>HouseSize</th>\n",
       "      <td>1.000000</td>\n",
       "      <td>0.024109</td>\n",
       "      <td>0.849300</td>\n",
       "    </tr>\n",
       "    <tr>\n",
       "      <th>Rooms</th>\n",
       "      <td>0.024109</td>\n",
       "      <td>1.000000</td>\n",
       "      <td>0.532038</td>\n",
       "    </tr>\n",
       "    <tr>\n",
       "      <th>Price</th>\n",
       "      <td>0.849300</td>\n",
       "      <td>0.532038</td>\n",
       "      <td>1.000000</td>\n",
       "    </tr>\n",
       "  </tbody>\n",
       "</table>\n",
       "</div>"
      ],
      "text/plain": [
       "           HouseSize     Rooms     Price\n",
       "HouseSize   1.000000  0.024109  0.849300\n",
       "Rooms       0.024109  1.000000  0.532038\n",
       "Price       0.849300  0.532038  1.000000"
      ]
     },
     "execution_count": 5,
     "metadata": {},
     "output_type": "execute_result"
    }
   ],
   "source": [
    "df.corr()"
   ]
  },
  {
   "cell_type": "code",
   "execution_count": 6,
   "id": "e333ef54-29df-43a6-8fe6-821c72c29469",
   "metadata": {},
   "outputs": [
    {
     "data": {
      "image/png": "[encoded data removed]",
      "text/plain": [
       "<Figure size 750x750 with 12 Axes>"
      ]
     },
     "metadata": {},
     "output_type": "display_data"
    }
   ],
   "source": [
    "sns.pairplot(df, kind=\"reg\");"
   ]
  },
  {
   "cell_type": "code",
   "execution_count": 7,
   "id": "aacac0b7-d8c2-4dcb-b9c6-57b9d3100689",
   "metadata": {},
   "outputs": [
    {
     "data": {
      "image/png": "[encoded data removed]",
      "text/plain": [
       "<Figure size 600x600 with 3 Axes>"
      ]
     },
     "metadata": {},
     "output_type": "display_data"
    }
   ],
   "source": [
    "sns.jointplot(x = \"HouseSize\", y = \"Price\", kind=\"reg\", data=df);"
   ]
  },
  {
   "cell_type": "markdown",
   "id": "8b8a3654-3134-4dd0-96c9-9874c8eaff27",
   "metadata": {},
   "source": [
    "## Statsmodels"
   ]
  },
  {
   "cell_type": "code",
   "execution_count": 8,
   "id": "79b56348-22ec-4469-963a-b6142466950f",
   "metadata": {},
   "outputs": [
    {
     "data": {
      "text/html": [
       "<div>\n",
       "<style scoped>\n",
       "    .dataframe tbody tr th:only-of-type {\n",
       "        vertical-align: middle;\n",
       "    }\n",
       "\n",
       "    .dataframe tbody tr th {\n",
       "        vertical-align: top;\n",
       "    }\n",
       "\n",
       "    .dataframe thead th {\n",
       "        text-align: right;\n",
       "    }\n",
       "</style>\n",
       "<table border=\"1\" class=\"dataframe\">\n",
       "  <thead>\n",
       "    <tr style=\"text-align: right;\">\n",
       "      <th></th>\n",
       "      <th>HouseSize</th>\n",
       "    </tr>\n",
       "  </thead>\n",
       "  <tbody>\n",
       "    <tr>\n",
       "      <th>0</th>\n",
       "      <td>83</td>\n",
       "    </tr>\n",
       "    <tr>\n",
       "      <th>1</th>\n",
       "      <td>229</td>\n",
       "    </tr>\n",
       "    <tr>\n",
       "      <th>2</th>\n",
       "      <td>272</td>\n",
       "    </tr>\n",
       "    <tr>\n",
       "      <th>3</th>\n",
       "      <td>187</td>\n",
       "    </tr>\n",
       "    <tr>\n",
       "      <th>4</th>\n",
       "      <td>299</td>\n",
       "    </tr>\n",
       "  </tbody>\n",
       "</table>\n",
       "</div>"
      ],
      "text/plain": [
       "   HouseSize\n",
       "0         83\n",
       "1        229\n",
       "2        272\n",
       "3        187\n",
       "4        299"
      ]
     },
     "execution_count": 8,
     "metadata": {},
     "output_type": "execute_result"
    }
   ],
   "source": [
    "X = df[[\"HouseSize\"]]\n",
    "X[0:5]"
   ]
  },
  {
   "cell_type": "code",
   "execution_count": 9,
   "id": "94791814-7184-4533-83f0-cad1410a7257",
   "metadata": {},
   "outputs": [],
   "source": [
    "X = sm.add_constant(X)"
   ]
  },
  {
   "cell_type": "code",
   "execution_count": 10,
   "id": "fa62d17f-4547-4cba-9aef-d00f3af18bd1",
   "metadata": {},
   "outputs": [
    {
     "data": {
      "text/html": [
       "<div>\n",
       "<style scoped>\n",
       "    .dataframe tbody tr th:only-of-type {\n",
       "        vertical-align: middle;\n",
       "    }\n",
       "\n",
       "    .dataframe tbody tr th {\n",
       "        vertical-align: top;\n",
       "    }\n",
       "\n",
       "    .dataframe thead th {\n",
       "        text-align: right;\n",
       "    }\n",
       "</style>\n",
       "<table border=\"1\" class=\"dataframe\">\n",
       "  <thead>\n",
       "    <tr style=\"text-align: right;\">\n",
       "      <th></th>\n",
       "      <th>const</th>\n",
       "      <th>HouseSize</th>\n",
       "    </tr>\n",
       "  </thead>\n",
       "  <tbody>\n",
       "    <tr>\n",
       "      <th>0</th>\n",
       "      <td>1.0</td>\n",
       "      <td>83</td>\n",
       "    </tr>\n",
       "    <tr>\n",
       "      <th>1</th>\n",
       "      <td>1.0</td>\n",
       "      <td>229</td>\n",
       "    </tr>\n",
       "    <tr>\n",
       "      <th>2</th>\n",
       "      <td>1.0</td>\n",
       "      <td>272</td>\n",
       "    </tr>\n",
       "    <tr>\n",
       "      <th>3</th>\n",
       "      <td>1.0</td>\n",
       "      <td>187</td>\n",
       "    </tr>\n",
       "    <tr>\n",
       "      <th>4</th>\n",
       "      <td>1.0</td>\n",
       "      <td>299</td>\n",
       "    </tr>\n",
       "  </tbody>\n",
       "</table>\n",
       "</div>"
      ],
      "text/plain": [
       "   const  HouseSize\n",
       "0    1.0         83\n",
       "1    1.0        229\n",
       "2    1.0        272\n",
       "3    1.0        187\n",
       "4    1.0        299"
      ]
     },
     "execution_count": 10,
     "metadata": {},
     "output_type": "execute_result"
    }
   ],
   "source": [
    "X[0:5]"
   ]
  },
  {
   "cell_type": "code",
   "execution_count": 11,
   "id": "94200faa-934c-46c6-95e0-8b34f7154536",
   "metadata": {},
   "outputs": [
    {
     "data": {
      "text/plain": [
       "0    248218.31\n",
       "1    381317.37\n",
       "2    466820.88\n",
       "3    320928.25\n",
       "4    388367.41\n",
       "Name: Price, dtype: float64"
      ]
     },
     "execution_count": 11,
     "metadata": {},
     "output_type": "execute_result"
    }
   ],
   "source": [
    "y = df[\"Price\"]\n",
    "y[0:5]"
   ]
  },
  {
   "cell_type": "code",
   "execution_count": 12,
   "id": "ed7fa436-c771-4a68-94fd-364b5d4685f0",
   "metadata": {},
   "outputs": [],
   "source": [
    "lm = sm.OLS(y,X)"
   ]
  },
  {
   "cell_type": "code",
   "execution_count": 13,
   "id": "82c41608-c11b-49d1-83d7-887af81fff0b",
   "metadata": {},
   "outputs": [],
   "source": [
    "model = lm.fit()"
   ]
  },
  {
   "cell_type": "code",
   "execution_count": 14,
   "id": "2c471b1d-8eda-4cf0-9d3e-13a5b1b5745b",
   "metadata": {},
   "outputs": [
    {
     "data": {
      "text/html": [
       "<table class=\"simpletable\">\n",
       "<caption>OLS Regression Results</caption>\n",
       "<tr>\n",
       "  <th>Dep. Variable:</th>          <td>Price</td>      <th>  R-squared:         </th> <td>   0.721</td>\n",
       "</tr>\n",
       "<tr>\n",
       "  <th>Model:</th>                   <td>OLS</td>       <th>  Adj. R-squared:    </th> <td>   0.719</td>\n",
       "</tr>\n",
       "<tr>\n",
       "  <th>Method:</th>             <td>Least Squares</td>  <th>  F-statistic:       </th> <td>   383.1</td>\n",
       "</tr>\n",
       "<tr>\n",
       "  <th>Date:</th>             <td>Fri, 13 Dec 2024</td> <th>  Prob (F-statistic):</th> <td>6.68e-43</td>\n",
       "</tr>\n",
       "<tr>\n",
       "  <th>Time:</th>                 <td>01:07:44</td>     <th>  Log-Likelihood:    </th> <td> -1821.5</td>\n",
       "</tr>\n",
       "<tr>\n",
       "  <th>No. Observations:</th>      <td>   150</td>      <th>  AIC:               </th> <td>   3647.</td>\n",
       "</tr>\n",
       "<tr>\n",
       "  <th>Df Residuals:</th>          <td>   148</td>      <th>  BIC:               </th> <td>   3653.</td>\n",
       "</tr>\n",
       "<tr>\n",
       "  <th>Df Model:</th>              <td>     1</td>      <th>                     </th>     <td> </td>   \n",
       "</tr>\n",
       "<tr>\n",
       "  <th>Covariance Type:</th>      <td>nonrobust</td>    <th>                     </th>     <td> </td>   \n",
       "</tr>\n",
       "</table>\n",
       "<table class=\"simpletable\">\n",
       "<tr>\n",
       "      <td></td>         <th>coef</th>     <th>std err</th>      <th>t</th>      <th>P>|t|</th>  <th>[0.025</th>    <th>0.975]</th>  \n",
       "</tr>\n",
       "<tr>\n",
       "  <th>const</th>     <td> 1.315e+05</td> <td> 9885.098</td> <td>   13.299</td> <td> 0.000</td> <td> 1.12e+05</td> <td> 1.51e+05</td>\n",
       "</tr>\n",
       "<tr>\n",
       "  <th>HouseSize</th> <td> 1008.4751</td> <td>   51.527</td> <td>   19.572</td> <td> 0.000</td> <td>  906.652</td> <td> 1110.298</td>\n",
       "</tr>\n",
       "</table>\n",
       "<table class=\"simpletable\">\n",
       "<tr>\n",
       "  <th>Omnibus:</th>       <td>35.331</td> <th>  Durbin-Watson:     </th> <td>   1.958</td>\n",
       "</tr>\n",
       "<tr>\n",
       "  <th>Prob(Omnibus):</th> <td> 0.000</td> <th>  Jarque-Bera (JB):  </th> <td>   7.428</td>\n",
       "</tr>\n",
       "<tr>\n",
       "  <th>Skew:</th>          <td> 0.036</td> <th>  Prob(JB):          </th> <td>  0.0244</td>\n",
       "</tr>\n",
       "<tr>\n",
       "  <th>Kurtosis:</th>      <td> 1.912</td> <th>  Cond. No.          </th> <td>    508.</td>\n",
       "</tr>\n",
       "</table><br/><br/>Notes:<br/>[1] Standard Errors assume that the covariance matrix of the errors is correctly specified."
      ],
      "text/latex": [
       "\\begin{center}\n",
       "\\begin{tabular}{lclc}\n",
       "\\toprule\n",
       "\\textbf{Dep. Variable:}    &      Price       & \\textbf{  R-squared:         } &     0.721   \\\\\n",
       "\\textbf{Model:}            &       OLS        & \\textbf{  Adj. R-squared:    } &     0.719   \\\\\n",
       "\\textbf{Method:}           &  Least Squares   & \\textbf{  F-statistic:       } &     383.1   \\\\\n",
       "\\textbf{Date:}             & Fri, 13 Dec 2024 & \\textbf{  Prob (F-statistic):} &  6.68e-43   \\\\\n",
       "\\textbf{Time:}             &     01:07:44     & \\textbf{  Log-Likelihood:    } &   -1821.5   \\\\\n",
       "\\textbf{No. Observations:} &         150      & \\textbf{  AIC:               } &     3647.   \\\\\n",
       "\\textbf{Df Residuals:}     &         148      & \\textbf{  BIC:               } &     3653.   \\\\\n",
       "\\textbf{Df Model:}         &           1      & \\textbf{                     } &             \\\\\n",
       "\\textbf{Covariance Type:}  &    nonrobust     & \\textbf{                     } &             \\\\\n",
       "\\bottomrule\n",
       "\\end{tabular}\n",
       "\\begin{tabular}{lcccccc}\n",
       "                   & \\textbf{coef} & \\textbf{std err} & \\textbf{t} & \\textbf{P$> |$t$|$} & \\textbf{[0.025} & \\textbf{0.975]}  \\\\\n",
       "\\midrule\n",
       "\\textbf{const}     &    1.315e+05  &     9885.098     &    13.299  &         0.000        &     1.12e+05    &     1.51e+05     \\\\\n",
       "\\textbf{HouseSize} &    1008.4751  &       51.527     &    19.572  &         0.000        &      906.652    &     1110.298     \\\\\n",
       "\\bottomrule\n",
       "\\end{tabular}\n",
       "\\begin{tabular}{lclc}\n",
       "\\textbf{Omnibus:}       & 35.331 & \\textbf{  Durbin-Watson:     } &    1.958  \\\\\n",
       "\\textbf{Prob(Omnibus):} &  0.000 & \\textbf{  Jarque-Bera (JB):  } &    7.428  \\\\\n",
       "\\textbf{Skew:}          &  0.036 & \\textbf{  Prob(JB):          } &   0.0244  \\\\\n",
       "\\textbf{Kurtosis:}      &  1.912 & \\textbf{  Cond. No.          } &     508.  \\\\\n",
       "\\bottomrule\n",
       "\\end{tabular}\n",
       "%\\caption{OLS Regression Results}\n",
       "\\end{center}\n",
       "\n",
       "Notes: \\newline\n",
       " [1] Standard Errors assume that the covariance matrix of the errors is correctly specified."
      ],
      "text/plain": [
       "<class 'statsmodels.iolib.summary.Summary'>\n",
       "\"\"\"\n",
       "                            OLS Regression Results                            \n",
       "==============================================================================\n",
       "Dep. Variable:                  Price   R-squared:                       0.721\n",
       "Model:                            OLS   Adj. R-squared:                  0.719\n",
       "Method:                 Least Squares   F-statistic:                     383.1\n",
       "Date:                Fri, 13 Dec 2024   Prob (F-statistic):           6.68e-43\n",
       "Time:                        01:07:44   Log-Likelihood:                -1821.5\n",
       "No. Observations:                 150   AIC:                             3647.\n",
       "Df Residuals:                     148   BIC:                             3653.\n",
       "Df Model:                           1                                         \n",
       "Covariance Type:            nonrobust                                         \n",
       "==============================================================================\n",
       "                 coef    std err          t      P>|t|      [0.025      0.975]\n",
       "------------------------------------------------------------------------------\n",
       "const       1.315e+05   9885.098     13.299      0.000    1.12e+05    1.51e+05\n",
       "HouseSize   1008.4751     51.527     19.572      0.000     906.652    1110.298\n",
       "==============================================================================\n",
       "Omnibus:                       35.331   Durbin-Watson:                   1.958\n",
       "Prob(Omnibus):                  0.000   Jarque-Bera (JB):                7.428\n",
       "Skew:                           0.036   Prob(JB):                       0.0244\n",
       "Kurtosis:                       1.912   Cond. No.                         508.\n",
       "==============================================================================\n",
       "\n",
       "Notes:\n",
       "[1] Standard Errors assume that the covariance matrix of the errors is correctly specified.\n",
       "\"\"\""
      ]
     },
     "execution_count": 14,
     "metadata": {},
     "output_type": "execute_result"
    }
   ],
   "source": [
    "model.summary()"
   ]
  },
  {
   "cell_type": "raw",
   "id": "25ec0751-d531-40b7-945d-01306b813b26",
   "metadata": {},
   "source": [
    "lm = smf.ols(\"Price ~ HouseSize\", df)\n",
    "model = lm.fit()\n",
    "model.summary()"
   ]
  },
  {
   "cell_type": "code",
   "execution_count": 15,
   "id": "579113a4-2d44-4fdf-80d1-a8e867bf9ae5",
   "metadata": {},
   "outputs": [
    {
     "data": {
      "text/plain": [
       "const        131462.645546\n",
       "HouseSize      1008.475146\n",
       "dtype: float64"
      ]
     },
     "execution_count": 15,
     "metadata": {},
     "output_type": "execute_result"
    }
   ],
   "source": [
    "model.params"
   ]
  },
  {
   "cell_type": "code",
   "execution_count": 16,
   "id": "8426c2e3-03cf-479e-8df4-e151eb218c71",
   "metadata": {},
   "outputs": [
    {
     "data": {
      "text/html": [
       "<table class=\"simpletable\">\n",
       "<tr>\n",
       "      <td></td>         <th>coef</th>     <th>std err</th>      <th>t</th>      <th>P>|t|</th>  <th>[0.025</th>    <th>0.975]</th>  \n",
       "</tr>\n",
       "<tr>\n",
       "  <th>const</th>     <td> 1.315e+05</td> <td> 9885.098</td> <td>   13.299</td> <td> 0.000</td> <td> 1.12e+05</td> <td> 1.51e+05</td>\n",
       "</tr>\n",
       "<tr>\n",
       "  <th>HouseSize</th> <td> 1008.4751</td> <td>   51.527</td> <td>   19.572</td> <td> 0.000</td> <td>  906.652</td> <td> 1110.298</td>\n",
       "</tr>\n",
       "</table>"
      ],
      "text/latex": [
       "\\begin{center}\n",
       "\\begin{tabular}{lcccccc}\n",
       "\\toprule\n",
       "                   & \\textbf{coef} & \\textbf{std err} & \\textbf{t} & \\textbf{P$> |$t$|$} & \\textbf{[0.025} & \\textbf{0.975]}  \\\\\n",
       "\\midrule\n",
       "\\textbf{const}     &    1.315e+05  &     9885.098     &    13.299  &         0.000        &     1.12e+05    &     1.51e+05     \\\\\n",
       "\\textbf{HouseSize} &    1008.4751  &       51.527     &    19.572  &         0.000        &      906.652    &     1110.298     \\\\\n",
       "\\bottomrule\n",
       "\\end{tabular}\n",
       "\\end{center}"
      ],
      "text/plain": [
       "<class 'statsmodels.iolib.table.SimpleTable'>"
      ]
     },
     "execution_count": 16,
     "metadata": {},
     "output_type": "execute_result"
    }
   ],
   "source": [
    "model.summary().tables[1]"
   ]
  },
  {
   "cell_type": "code",
   "execution_count": 17,
   "id": "c756034e-6fbf-4a57-aa2b-5d76ffe32889",
   "metadata": {},
   "outputs": [
    {
     "data": {
      "text/html": [
       "<div>\n",
       "<style scoped>\n",
       "    .dataframe tbody tr th:only-of-type {\n",
       "        vertical-align: middle;\n",
       "    }\n",
       "\n",
       "    .dataframe tbody tr th {\n",
       "        vertical-align: top;\n",
       "    }\n",
       "\n",
       "    .dataframe thead th {\n",
       "        text-align: right;\n",
       "    }\n",
       "</style>\n",
       "<table border=\"1\" class=\"dataframe\">\n",
       "  <thead>\n",
       "    <tr style=\"text-align: right;\">\n",
       "      <th></th>\n",
       "      <th>0</th>\n",
       "      <th>1</th>\n",
       "    </tr>\n",
       "  </thead>\n",
       "  <tbody>\n",
       "    <tr>\n",
       "      <th>const</th>\n",
       "      <td>111928.480866</td>\n",
       "      <td>150996.810226</td>\n",
       "    </tr>\n",
       "    <tr>\n",
       "      <th>HouseSize</th>\n",
       "      <td>906.651937</td>\n",
       "      <td>1110.298356</td>\n",
       "    </tr>\n",
       "  </tbody>\n",
       "</table>\n",
       "</div>"
      ],
      "text/plain": [
       "                       0              1\n",
       "const      111928.480866  150996.810226\n",
       "HouseSize     906.651937    1110.298356"
      ]
     },
     "execution_count": 17,
     "metadata": {},
     "output_type": "execute_result"
    }
   ],
   "source": [
    "model.conf_int()"
   ]
  },
  {
   "cell_type": "code",
   "execution_count": 18,
   "id": "5cc8b30d-d784-483d-b7e7-06b6bdf2d318",
   "metadata": {},
   "outputs": [
    {
     "data": {
      "text/plain": [
       "6.679806051923156e-43"
      ]
     },
     "execution_count": 18,
     "metadata": {},
     "output_type": "execute_result"
    }
   ],
   "source": [
    "model.f_pvalue"
   ]
  },
  {
   "cell_type": "code",
   "execution_count": 19,
   "id": "7b94b071-5660-428a-b793-09e829b84351",
   "metadata": {},
   "outputs": [
    {
     "name": "stdout",
     "output_type": "stream",
     "text": [
      "f_pvalue :  0.000\n"
     ]
    }
   ],
   "source": [
    "print(\"f_pvalue : \", \"%.3f\" % model.f_pvalue)"
   ]
  },
  {
   "cell_type": "code",
   "execution_count": 20,
   "id": "fb7388a1-decd-4c24-b3a0-ecb864a881c8",
   "metadata": {},
   "outputs": [
    {
     "name": "stdout",
     "output_type": "stream",
     "text": [
      "fvalue :  383.058\n"
     ]
    }
   ],
   "source": [
    "print(\"fvalue : \", \"%.3f\" % model.fvalue)"
   ]
  },
  {
   "cell_type": "code",
   "execution_count": 21,
   "id": "e99c6eb2-8c36-41aa-b1c8-e49183c3de98",
   "metadata": {},
   "outputs": [
    {
     "name": "stdout",
     "output_type": "stream",
     "text": [
      "tvalue :  13.299\n"
     ]
    },
    {
     "name": "stderr",
     "output_type": "stream",
     "text": [
      "C:\\Users\\hp\\AppData\\Local\\Temp\\ipykernel_20868\\1110418876.py:1: FutureWarning: Calling float on a single element Series is deprecated and will raise a TypeError in the future. Use float(ser.iloc[0]) instead\n",
      "  print(\"tvalue : \", \"%.3f\" % model.tvalues[0:1])\n"
     ]
    }
   ],
   "source": [
    "print(\"tvalue : \", \"%.3f\" % model.tvalues[0:1])"
   ]
  },
  {
   "cell_type": "code",
   "execution_count": 22,
   "id": "72457cf7-7969-45cf-8462-9847a43ee475",
   "metadata": {},
   "outputs": [
    {
     "data": {
      "text/plain": [
       "802063891365.3137"
      ]
     },
     "execution_count": 22,
     "metadata": {},
     "output_type": "execute_result"
    }
   ],
   "source": [
    "model.mse_model"
   ]
  },
  {
   "cell_type": "code",
   "execution_count": 23,
   "id": "7160b79c-2e56-4bb8-a1d8-6e2a97f81a5a",
   "metadata": {},
   "outputs": [
    {
     "data": {
      "text/plain": [
       "0.721311052341924"
      ]
     },
     "execution_count": 23,
     "metadata": {},
     "output_type": "execute_result"
    }
   ],
   "source": [
    "model.rsquared"
   ]
  },
  {
   "cell_type": "code",
   "execution_count": 24,
   "id": "2933052c-b01f-4632-9e74-9cbf0fa593e1",
   "metadata": {},
   "outputs": [
    {
     "data": {
      "text/plain": [
       "0.7194280189118019"
      ]
     },
     "execution_count": 24,
     "metadata": {},
     "output_type": "execute_result"
    }
   ],
   "source": [
    "model.rsquared_adj"
   ]
  },
  {
   "cell_type": "code",
   "execution_count": 25,
   "id": "32a16cfe-550e-4ce8-9451-ad28998a6c95",
   "metadata": {},
   "outputs": [
    {
     "data": {
      "text/plain": [
       "0    215166.082690\n",
       "1    362403.454052\n",
       "2    405767.885343\n",
       "3    320047.497907\n",
       "4    432996.714294\n",
       "dtype: float64"
      ]
     },
     "execution_count": 25,
     "metadata": {},
     "output_type": "execute_result"
    }
   ],
   "source": [
    "model.fittedvalues[0:5]"
   ]
  },
  {
   "cell_type": "code",
   "execution_count": 26,
   "id": "c288210f-c148-44f9-8b22-7ed46469d33d",
   "metadata": {},
   "outputs": [
    {
     "data": {
      "text/plain": [
       "0    248218.31\n",
       "1    381317.37\n",
       "2    466820.88\n",
       "3    320928.25\n",
       "4    388367.41\n",
       "Name: Price, dtype: float64"
      ]
     },
     "execution_count": 26,
     "metadata": {},
     "output_type": "execute_result"
    }
   ],
   "source": [
    "y[0:5]"
   ]
  },
  {
   "cell_type": "markdown",
   "id": "f9a9a5d1-11c9-43c2-a3e5-601e98d34042",
   "metadata": {},
   "source": [
    "## Model Equation"
   ]
  },
  {
   "cell_type": "markdown",
   "id": "d3e7bd5d-b0d9-4110-ba0f-f5c0afd0d5e3",
   "metadata": {},
   "source": [
    "Price = 131462 + HouseSize * 1008.4751"
   ]
  },
  {
   "cell_type": "markdown",
   "id": "8b35b3b7-f3c4-46ea-bd34-a015f6ada1d6",
   "metadata": {},
   "source": [
    "## Model Visualisation"
   ]
  },
  {
   "cell_type": "code",
   "execution_count": 27,
   "id": "2f041119-1414-4428-87df-4f7162eeffec",
   "metadata": {},
   "outputs": [
    {
     "data": {
      "image/png": "[encoded data removed]",
      "text/plain": [
       "<Figure size 640x480 with 1 Axes>"
      ]
     },
     "metadata": {},
     "output_type": "display_data"
    }
   ],
   "source": [
    "g = sns.regplot(x=df[\"HouseSize\"], y=df[\"Price\"], ci=None, scatter_kws={'color': 'r', 's': 9})\n",
    "g.set_title(\"Model Equation : Price = 131462 + HouseSize * 1008.4751\")\n",
    "g.set_ylabel(\"Price\")\n",
    "g.set_xlabel(\"House Size\")\n",
    "plt.xlim(-10, 310)\n",
    "plt.ylim(bottom=0);"
   ]
  },
  {
   "cell_type": "markdown",
   "id": "add4a6de-9e53-43a7-8139-896b1c51199b",
   "metadata": {},
   "source": [
    "## Model Prediction"
   ]
  },
  {
   "cell_type": "markdown",
   "id": "31d9ba1c-d588-486d-bf43-c0d21a6a3aba",
   "metadata": {},
   "source": [
    "### Model Equation"
   ]
  },
  {
   "cell_type": "markdown",
   "id": "749dc548-cda7-466e-9c5e-593590d2be71",
   "metadata": {},
   "source": [
    "**Price = 131462 + HouseSize * 1008.4751**"
   ]
  },
  {
   "cell_type": "markdown",
   "id": "56384eea-dbfe-4210-9dcc-9f01c1dd1f71",
   "metadata": {},
   "source": [
    "How much is a 30 square metre house ?"
   ]
  },
  {
   "cell_type": "code",
   "execution_count": 28,
   "id": "7c7781f5-c201-462d-a45c-bb79171e0db0",
   "metadata": {},
   "outputs": [],
   "source": [
    "X = df[[\"HouseSize\"]]\n",
    "y = df[\"Price\"]\n",
    "reg = LinearRegression()\n",
    "model = reg.fit(X,y)"
   ]
  },
  {
   "cell_type": "code",
   "execution_count": 29,
   "id": "bfca9fe8-a8cd-4f58-b650-025ace5129a3",
   "metadata": {},
   "outputs": [
    {
     "data": {
      "text/plain": [
       "161716.253"
      ]
     },
     "execution_count": 29,
     "metadata": {},
     "output_type": "execute_result"
    }
   ],
   "source": [
    "131462 + 30 * 1008.4751"
   ]
  },
  {
   "cell_type": "code",
   "execution_count": 30,
   "id": "774d10ca-61d6-4c7c-9e5a-88e25c88b504",
   "metadata": {},
   "outputs": [
    {
     "name": "stderr",
     "output_type": "stream",
     "text": [
      "C:\\Users\\hp\\anaconda3\\envs\\webscraping\\lib\\site-packages\\sklearn\\base.py:493: UserWarning: X does not have valid feature names, but LinearRegression was fitted with feature names\n",
      "  warnings.warn(\n"
     ]
    },
    {
     "data": {
      "text/plain": [
       "array([161716.89993545])"
      ]
     },
     "execution_count": 30,
     "metadata": {},
     "output_type": "execute_result"
    }
   ],
   "source": [
    "model.predict([[30]])"
   ]
  },
  {
   "cell_type": "code",
   "execution_count": 31,
   "id": "de5557cc-ba59-4786-beaa-6b9083b27f86",
   "metadata": {},
   "outputs": [],
   "source": [
    "new_data = [[125],[250],[95]]"
   ]
  },
  {
   "cell_type": "code",
   "execution_count": 32,
   "id": "e8965fc2-d65e-410d-b273-38a558e7c3b1",
   "metadata": {},
   "outputs": [
    {
     "name": "stderr",
     "output_type": "stream",
     "text": [
      "C:\\Users\\hp\\anaconda3\\envs\\webscraping\\lib\\site-packages\\sklearn\\base.py:493: UserWarning: X does not have valid feature names, but LinearRegression was fitted with feature names\n",
      "  warnings.warn(\n"
     ]
    },
    {
     "data": {
      "text/plain": [
       "array([257522.03883527, 383581.43212451, 227267.78444585])"
      ]
     },
     "execution_count": 32,
     "metadata": {},
     "output_type": "execute_result"
    }
   ],
   "source": [
    "model.predict(new_data)"
   ]
  },
  {
   "cell_type": "markdown",
   "id": "1accafeb-1047-4e02-934b-c086a3ea2176",
   "metadata": {},
   "source": [
    "## Error Investigation and Resid"
   ]
  },
  {
   "cell_type": "code",
   "execution_count": 33,
   "id": "4616f806-8b07-4011-9124-5b80e7f2e3e3",
   "metadata": {},
   "outputs": [],
   "source": [
    "from sklearn.metrics import mean_squared_error, r2_score"
   ]
  },
  {
   "cell_type": "code",
   "execution_count": 34,
   "id": "f3a70eae-a357-41e4-8fd9-d1609441f93e",
   "metadata": {},
   "outputs": [],
   "source": [
    "lm = smf.ols(\"Price ~ HouseSize\", df)\n",
    "model = lm.fit()"
   ]
  },
  {
   "cell_type": "code",
   "execution_count": 35,
   "id": "29d89254-5ffb-4628-87dc-d13237300c40",
   "metadata": {},
   "outputs": [],
   "source": [
    "mse = mean_squared_error(y, model.fittedvalues)"
   ]
  },
  {
   "cell_type": "code",
   "execution_count": 36,
   "id": "e123995a-9d10-49a1-a5d2-278b16612208",
   "metadata": {},
   "outputs": [
    {
     "data": {
      "text/plain": [
       "2065926492.354019"
      ]
     },
     "execution_count": 36,
     "metadata": {},
     "output_type": "execute_result"
    }
   ],
   "source": [
    "mse"
   ]
  },
  {
   "cell_type": "code",
   "execution_count": 37,
   "id": "93f25f3a-5ab4-446b-a552-ea5424bda057",
   "metadata": {},
   "outputs": [],
   "source": [
    "rmse = np.sqrt(mse)"
   ]
  },
  {
   "cell_type": "code",
   "execution_count": 38,
   "id": "d24f32c9-73c4-4df1-840e-58c31fdd8bbe",
   "metadata": {},
   "outputs": [
    {
     "data": {
      "text/plain": [
       "45452.464095514326"
      ]
     },
     "execution_count": 38,
     "metadata": {},
     "output_type": "execute_result"
    }
   ],
   "source": [
    "rmse"
   ]
  },
  {
   "cell_type": "code",
   "execution_count": 39,
   "id": "9019414e-3366-4326-a297-f79f59abb580",
   "metadata": {},
   "outputs": [
    {
     "data": {
      "text/plain": [
       "array([215166.08269009, 362403.45405192, 405767.88534341, 320047.49790673,\n",
       "       432996.71429389, 329123.77422356, 368454.3049298 , 277691.54176155,\n",
       "       181886.40286173, 430979.76400126])"
      ]
     },
     "execution_count": 39,
     "metadata": {},
     "output_type": "execute_result"
    }
   ],
   "source": [
    "reg.predict(X)[0:10]"
   ]
  },
  {
   "cell_type": "code",
   "execution_count": 40,
   "id": "8ada2b89-e514-4b1e-b7a1-c5fc541d8944",
   "metadata": {},
   "outputs": [
    {
     "data": {
      "text/plain": [
       "0    248218.31\n",
       "1    381317.37\n",
       "2    466820.88\n",
       "3    320928.25\n",
       "4    388367.41\n",
       "5    376392.58\n",
       "6    328967.94\n",
       "7    326100.90\n",
       "8    261496.23\n",
       "9    502252.12\n",
       "Name: Price, dtype: float64"
      ]
     },
     "execution_count": 40,
     "metadata": {},
     "output_type": "execute_result"
    }
   ],
   "source": [
    "y[0:10]"
   ]
  },
  {
   "cell_type": "code",
   "execution_count": 41,
   "id": "45d05982-878d-4e96-9ad5-f2be9165081c",
   "metadata": {},
   "outputs": [],
   "source": [
    "comparison_table = pd.DataFrame({\"real_y_values\" : y[0:10],\n",
    "                                \"predicted_y_values\" : reg.predict(X)[0:10]})"
   ]
  },
  {
   "cell_type": "code",
   "execution_count": 42,
   "id": "d6e4c445-3e77-4a20-a55a-95bc7e82f6e4",
   "metadata": {},
   "outputs": [
    {
     "data": {
      "text/html": [
       "<div>\n",
       "<style scoped>\n",
       "    .dataframe tbody tr th:only-of-type {\n",
       "        vertical-align: middle;\n",
       "    }\n",
       "\n",
       "    .dataframe tbody tr th {\n",
       "        vertical-align: top;\n",
       "    }\n",
       "\n",
       "    .dataframe thead th {\n",
       "        text-align: right;\n",
       "    }\n",
       "</style>\n",
       "<table border=\"1\" class=\"dataframe\">\n",
       "  <thead>\n",
       "    <tr style=\"text-align: right;\">\n",
       "      <th></th>\n",
       "      <th>real_y_values</th>\n",
       "      <th>predicted_y_values</th>\n",
       "    </tr>\n",
       "  </thead>\n",
       "  <tbody>\n",
       "    <tr>\n",
       "      <th>0</th>\n",
       "      <td>248218.31</td>\n",
       "      <td>215166.082690</td>\n",
       "    </tr>\n",
       "    <tr>\n",
       "      <th>1</th>\n",
       "      <td>381317.37</td>\n",
       "      <td>362403.454052</td>\n",
       "    </tr>\n",
       "    <tr>\n",
       "      <th>2</th>\n",
       "      <td>466820.88</td>\n",
       "      <td>405767.885343</td>\n",
       "    </tr>\n",
       "    <tr>\n",
       "      <th>3</th>\n",
       "      <td>320928.25</td>\n",
       "      <td>320047.497907</td>\n",
       "    </tr>\n",
       "    <tr>\n",
       "      <th>4</th>\n",
       "      <td>388367.41</td>\n",
       "      <td>432996.714294</td>\n",
       "    </tr>\n",
       "    <tr>\n",
       "      <th>5</th>\n",
       "      <td>376392.58</td>\n",
       "      <td>329123.774224</td>\n",
       "    </tr>\n",
       "    <tr>\n",
       "      <th>6</th>\n",
       "      <td>328967.94</td>\n",
       "      <td>368454.304930</td>\n",
       "    </tr>\n",
       "    <tr>\n",
       "      <th>7</th>\n",
       "      <td>326100.90</td>\n",
       "      <td>277691.541762</td>\n",
       "    </tr>\n",
       "    <tr>\n",
       "      <th>8</th>\n",
       "      <td>261496.23</td>\n",
       "      <td>181886.402862</td>\n",
       "    </tr>\n",
       "    <tr>\n",
       "      <th>9</th>\n",
       "      <td>502252.12</td>\n",
       "      <td>430979.764001</td>\n",
       "    </tr>\n",
       "  </tbody>\n",
       "</table>\n",
       "</div>"
      ],
      "text/plain": [
       "   real_y_values  predicted_y_values\n",
       "0      248218.31       215166.082690\n",
       "1      381317.37       362403.454052\n",
       "2      466820.88       405767.885343\n",
       "3      320928.25       320047.497907\n",
       "4      388367.41       432996.714294\n",
       "5      376392.58       329123.774224\n",
       "6      328967.94       368454.304930\n",
       "7      326100.90       277691.541762\n",
       "8      261496.23       181886.402862\n",
       "9      502252.12       430979.764001"
      ]
     },
     "execution_count": 42,
     "metadata": {},
     "output_type": "execute_result"
    }
   ],
   "source": [
    "comparison_table"
   ]
  },
  {
   "cell_type": "code",
   "execution_count": 43,
   "id": "1aea5096-0b17-4ca5-9116-69cc1fe35f0e",
   "metadata": {},
   "outputs": [],
   "source": [
    "comparison_table[\"error\"] = comparison_table[\"real_y_values\"] - comparison_table[\"predicted_y_values\"]"
   ]
  },
  {
   "cell_type": "code",
   "execution_count": 44,
   "id": "ca002ad6-6482-4c89-af7c-996fb733143f",
   "metadata": {},
   "outputs": [
    {
     "data": {
      "text/html": [
       "<div>\n",
       "<style scoped>\n",
       "    .dataframe tbody tr th:only-of-type {\n",
       "        vertical-align: middle;\n",
       "    }\n",
       "\n",
       "    .dataframe tbody tr th {\n",
       "        vertical-align: top;\n",
       "    }\n",
       "\n",
       "    .dataframe thead th {\n",
       "        text-align: right;\n",
       "    }\n",
       "</style>\n",
       "<table border=\"1\" class=\"dataframe\">\n",
       "  <thead>\n",
       "    <tr style=\"text-align: right;\">\n",
       "      <th></th>\n",
       "      <th>real_y_values</th>\n",
       "      <th>predicted_y_values</th>\n",
       "      <th>error</th>\n",
       "    </tr>\n",
       "  </thead>\n",
       "  <tbody>\n",
       "    <tr>\n",
       "      <th>0</th>\n",
       "      <td>248218.31</td>\n",
       "      <td>215166.082690</td>\n",
       "      <td>33052.227310</td>\n",
       "    </tr>\n",
       "    <tr>\n",
       "      <th>1</th>\n",
       "      <td>381317.37</td>\n",
       "      <td>362403.454052</td>\n",
       "      <td>18913.915948</td>\n",
       "    </tr>\n",
       "    <tr>\n",
       "      <th>2</th>\n",
       "      <td>466820.88</td>\n",
       "      <td>405767.885343</td>\n",
       "      <td>61052.994657</td>\n",
       "    </tr>\n",
       "    <tr>\n",
       "      <th>3</th>\n",
       "      <td>320928.25</td>\n",
       "      <td>320047.497907</td>\n",
       "      <td>880.752093</td>\n",
       "    </tr>\n",
       "    <tr>\n",
       "      <th>4</th>\n",
       "      <td>388367.41</td>\n",
       "      <td>432996.714294</td>\n",
       "      <td>-44629.304294</td>\n",
       "    </tr>\n",
       "    <tr>\n",
       "      <th>5</th>\n",
       "      <td>376392.58</td>\n",
       "      <td>329123.774224</td>\n",
       "      <td>47268.805776</td>\n",
       "    </tr>\n",
       "    <tr>\n",
       "      <th>6</th>\n",
       "      <td>328967.94</td>\n",
       "      <td>368454.304930</td>\n",
       "      <td>-39486.364930</td>\n",
       "    </tr>\n",
       "    <tr>\n",
       "      <th>7</th>\n",
       "      <td>326100.90</td>\n",
       "      <td>277691.541762</td>\n",
       "      <td>48409.358238</td>\n",
       "    </tr>\n",
       "    <tr>\n",
       "      <th>8</th>\n",
       "      <td>261496.23</td>\n",
       "      <td>181886.402862</td>\n",
       "      <td>79609.827138</td>\n",
       "    </tr>\n",
       "    <tr>\n",
       "      <th>9</th>\n",
       "      <td>502252.12</td>\n",
       "      <td>430979.764001</td>\n",
       "      <td>71272.355999</td>\n",
       "    </tr>\n",
       "  </tbody>\n",
       "</table>\n",
       "</div>"
      ],
      "text/plain": [
       "   real_y_values  predicted_y_values         error\n",
       "0      248218.31       215166.082690  33052.227310\n",
       "1      381317.37       362403.454052  18913.915948\n",
       "2      466820.88       405767.885343  61052.994657\n",
       "3      320928.25       320047.497907    880.752093\n",
       "4      388367.41       432996.714294 -44629.304294\n",
       "5      376392.58       329123.774224  47268.805776\n",
       "6      328967.94       368454.304930 -39486.364930\n",
       "7      326100.90       277691.541762  48409.358238\n",
       "8      261496.23       181886.402862  79609.827138\n",
       "9      502252.12       430979.764001  71272.355999"
      ]
     },
     "execution_count": 44,
     "metadata": {},
     "output_type": "execute_result"
    }
   ],
   "source": [
    "comparison_table"
   ]
  },
  {
   "cell_type": "code",
   "execution_count": 45,
   "id": "29a7d034-98bf-4f79-af41-9b739e5669c2",
   "metadata": {},
   "outputs": [],
   "source": [
    "comparison_table[\"error_abs\"] = comparison_table[\"error\"].abs()"
   ]
  },
  {
   "cell_type": "code",
   "execution_count": 46,
   "id": "2f149298-e9b9-477a-825f-19a928ed6821",
   "metadata": {},
   "outputs": [
    {
     "data": {
      "text/html": [
       "<div>\n",
       "<style scoped>\n",
       "    .dataframe tbody tr th:only-of-type {\n",
       "        vertical-align: middle;\n",
       "    }\n",
       "\n",
       "    .dataframe tbody tr th {\n",
       "        vertical-align: top;\n",
       "    }\n",
       "\n",
       "    .dataframe thead th {\n",
       "        text-align: right;\n",
       "    }\n",
       "</style>\n",
       "<table border=\"1\" class=\"dataframe\">\n",
       "  <thead>\n",
       "    <tr style=\"text-align: right;\">\n",
       "      <th></th>\n",
       "      <th>real_y_values</th>\n",
       "      <th>predicted_y_values</th>\n",
       "      <th>error</th>\n",
       "      <th>error_abs</th>\n",
       "    </tr>\n",
       "  </thead>\n",
       "  <tbody>\n",
       "    <tr>\n",
       "      <th>0</th>\n",
       "      <td>248218.31</td>\n",
       "      <td>215166.082690</td>\n",
       "      <td>33052.227310</td>\n",
       "      <td>33052.227310</td>\n",
       "    </tr>\n",
       "    <tr>\n",
       "      <th>1</th>\n",
       "      <td>381317.37</td>\n",
       "      <td>362403.454052</td>\n",
       "      <td>18913.915948</td>\n",
       "      <td>18913.915948</td>\n",
       "    </tr>\n",
       "    <tr>\n",
       "      <th>2</th>\n",
       "      <td>466820.88</td>\n",
       "      <td>405767.885343</td>\n",
       "      <td>61052.994657</td>\n",
       "      <td>61052.994657</td>\n",
       "    </tr>\n",
       "    <tr>\n",
       "      <th>3</th>\n",
       "      <td>320928.25</td>\n",
       "      <td>320047.497907</td>\n",
       "      <td>880.752093</td>\n",
       "      <td>880.752093</td>\n",
       "    </tr>\n",
       "    <tr>\n",
       "      <th>4</th>\n",
       "      <td>388367.41</td>\n",
       "      <td>432996.714294</td>\n",
       "      <td>-44629.304294</td>\n",
       "      <td>44629.304294</td>\n",
       "    </tr>\n",
       "    <tr>\n",
       "      <th>5</th>\n",
       "      <td>376392.58</td>\n",
       "      <td>329123.774224</td>\n",
       "      <td>47268.805776</td>\n",
       "      <td>47268.805776</td>\n",
       "    </tr>\n",
       "    <tr>\n",
       "      <th>6</th>\n",
       "      <td>328967.94</td>\n",
       "      <td>368454.304930</td>\n",
       "      <td>-39486.364930</td>\n",
       "      <td>39486.364930</td>\n",
       "    </tr>\n",
       "    <tr>\n",
       "      <th>7</th>\n",
       "      <td>326100.90</td>\n",
       "      <td>277691.541762</td>\n",
       "      <td>48409.358238</td>\n",
       "      <td>48409.358238</td>\n",
       "    </tr>\n",
       "    <tr>\n",
       "      <th>8</th>\n",
       "      <td>261496.23</td>\n",
       "      <td>181886.402862</td>\n",
       "      <td>79609.827138</td>\n",
       "      <td>79609.827138</td>\n",
       "    </tr>\n",
       "    <tr>\n",
       "      <th>9</th>\n",
       "      <td>502252.12</td>\n",
       "      <td>430979.764001</td>\n",
       "      <td>71272.355999</td>\n",
       "      <td>71272.355999</td>\n",
       "    </tr>\n",
       "  </tbody>\n",
       "</table>\n",
       "</div>"
      ],
      "text/plain": [
       "   real_y_values  predicted_y_values         error     error_abs\n",
       "0      248218.31       215166.082690  33052.227310  33052.227310\n",
       "1      381317.37       362403.454052  18913.915948  18913.915948\n",
       "2      466820.88       405767.885343  61052.994657  61052.994657\n",
       "3      320928.25       320047.497907    880.752093    880.752093\n",
       "4      388367.41       432996.714294 -44629.304294  44629.304294\n",
       "5      376392.58       329123.774224  47268.805776  47268.805776\n",
       "6      328967.94       368454.304930 -39486.364930  39486.364930\n",
       "7      326100.90       277691.541762  48409.358238  48409.358238\n",
       "8      261496.23       181886.402862  79609.827138  79609.827138\n",
       "9      502252.12       430979.764001  71272.355999  71272.355999"
      ]
     },
     "execution_count": 46,
     "metadata": {},
     "output_type": "execute_result"
    }
   ],
   "source": [
    "comparison_table"
   ]
  },
  {
   "cell_type": "code",
   "execution_count": 47,
   "id": "7ab918df-4038-4e89-859f-ad3fcb9bac69",
   "metadata": {},
   "outputs": [],
   "source": [
    "comparison_table[\"squared_error\"] = comparison_table[\"error\"]**2"
   ]
  },
  {
   "cell_type": "code",
   "execution_count": 48,
   "id": "abfed49c-e776-4596-ace5-f9c098e8ceef",
   "metadata": {},
   "outputs": [
    {
     "data": {
      "text/html": [
       "<div>\n",
       "<style scoped>\n",
       "    .dataframe tbody tr th:only-of-type {\n",
       "        vertical-align: middle;\n",
       "    }\n",
       "\n",
       "    .dataframe tbody tr th {\n",
       "        vertical-align: top;\n",
       "    }\n",
       "\n",
       "    .dataframe thead th {\n",
       "        text-align: right;\n",
       "    }\n",
       "</style>\n",
       "<table border=\"1\" class=\"dataframe\">\n",
       "  <thead>\n",
       "    <tr style=\"text-align: right;\">\n",
       "      <th></th>\n",
       "      <th>real_y_values</th>\n",
       "      <th>predicted_y_values</th>\n",
       "      <th>error</th>\n",
       "      <th>error_abs</th>\n",
       "      <th>squared_error</th>\n",
       "    </tr>\n",
       "  </thead>\n",
       "  <tbody>\n",
       "    <tr>\n",
       "      <th>0</th>\n",
       "      <td>248218.31</td>\n",
       "      <td>215166.082690</td>\n",
       "      <td>33052.227310</td>\n",
       "      <td>33052.227310</td>\n",
       "      <td>1.092450e+09</td>\n",
       "    </tr>\n",
       "    <tr>\n",
       "      <th>1</th>\n",
       "      <td>381317.37</td>\n",
       "      <td>362403.454052</td>\n",
       "      <td>18913.915948</td>\n",
       "      <td>18913.915948</td>\n",
       "      <td>3.577362e+08</td>\n",
       "    </tr>\n",
       "    <tr>\n",
       "      <th>2</th>\n",
       "      <td>466820.88</td>\n",
       "      <td>405767.885343</td>\n",
       "      <td>61052.994657</td>\n",
       "      <td>61052.994657</td>\n",
       "      <td>3.727468e+09</td>\n",
       "    </tr>\n",
       "    <tr>\n",
       "      <th>3</th>\n",
       "      <td>320928.25</td>\n",
       "      <td>320047.497907</td>\n",
       "      <td>880.752093</td>\n",
       "      <td>880.752093</td>\n",
       "      <td>7.757242e+05</td>\n",
       "    </tr>\n",
       "    <tr>\n",
       "      <th>4</th>\n",
       "      <td>388367.41</td>\n",
       "      <td>432996.714294</td>\n",
       "      <td>-44629.304294</td>\n",
       "      <td>44629.304294</td>\n",
       "      <td>1.991775e+09</td>\n",
       "    </tr>\n",
       "    <tr>\n",
       "      <th>5</th>\n",
       "      <td>376392.58</td>\n",
       "      <td>329123.774224</td>\n",
       "      <td>47268.805776</td>\n",
       "      <td>47268.805776</td>\n",
       "      <td>2.234340e+09</td>\n",
       "    </tr>\n",
       "    <tr>\n",
       "      <th>6</th>\n",
       "      <td>328967.94</td>\n",
       "      <td>368454.304930</td>\n",
       "      <td>-39486.364930</td>\n",
       "      <td>39486.364930</td>\n",
       "      <td>1.559173e+09</td>\n",
       "    </tr>\n",
       "    <tr>\n",
       "      <th>7</th>\n",
       "      <td>326100.90</td>\n",
       "      <td>277691.541762</td>\n",
       "      <td>48409.358238</td>\n",
       "      <td>48409.358238</td>\n",
       "      <td>2.343466e+09</td>\n",
       "    </tr>\n",
       "    <tr>\n",
       "      <th>8</th>\n",
       "      <td>261496.23</td>\n",
       "      <td>181886.402862</td>\n",
       "      <td>79609.827138</td>\n",
       "      <td>79609.827138</td>\n",
       "      <td>6.337725e+09</td>\n",
       "    </tr>\n",
       "    <tr>\n",
       "      <th>9</th>\n",
       "      <td>502252.12</td>\n",
       "      <td>430979.764001</td>\n",
       "      <td>71272.355999</td>\n",
       "      <td>71272.355999</td>\n",
       "      <td>5.079749e+09</td>\n",
       "    </tr>\n",
       "  </tbody>\n",
       "</table>\n",
       "</div>"
      ],
      "text/plain": [
       "   real_y_values  predicted_y_values         error     error_abs  \\\n",
       "0      248218.31       215166.082690  33052.227310  33052.227310   \n",
       "1      381317.37       362403.454052  18913.915948  18913.915948   \n",
       "2      466820.88       405767.885343  61052.994657  61052.994657   \n",
       "3      320928.25       320047.497907    880.752093    880.752093   \n",
       "4      388367.41       432996.714294 -44629.304294  44629.304294   \n",
       "5      376392.58       329123.774224  47268.805776  47268.805776   \n",
       "6      328967.94       368454.304930 -39486.364930  39486.364930   \n",
       "7      326100.90       277691.541762  48409.358238  48409.358238   \n",
       "8      261496.23       181886.402862  79609.827138  79609.827138   \n",
       "9      502252.12       430979.764001  71272.355999  71272.355999   \n",
       "\n",
       "   squared_error  \n",
       "0   1.092450e+09  \n",
       "1   3.577362e+08  \n",
       "2   3.727468e+09  \n",
       "3   7.757242e+05  \n",
       "4   1.991775e+09  \n",
       "5   2.234340e+09  \n",
       "6   1.559173e+09  \n",
       "7   2.343466e+09  \n",
       "8   6.337725e+09  \n",
       "9   5.079749e+09  "
      ]
     },
     "execution_count": 48,
     "metadata": {},
     "output_type": "execute_result"
    }
   ],
   "source": [
    "comparison_table"
   ]
  },
  {
   "cell_type": "code",
   "execution_count": 49,
   "id": "73515f90-41a2-4520-8d6d-f7f71465a7a4",
   "metadata": {},
   "outputs": [
    {
     "data": {
      "text/plain": [
       "24724656915.735966"
      ]
     },
     "execution_count": 49,
     "metadata": {},
     "output_type": "execute_result"
    }
   ],
   "source": [
    "np.sum(comparison_table[\"squared_error\"])"
   ]
  },
  {
   "cell_type": "code",
   "execution_count": 50,
   "id": "69c26c41-7338-4de9-9ed8-2de32e02092c",
   "metadata": {},
   "outputs": [
    {
     "data": {
      "text/plain": [
       "2472465691.5735965"
      ]
     },
     "execution_count": 50,
     "metadata": {},
     "output_type": "execute_result"
    }
   ],
   "source": [
    "np.mean(comparison_table[\"squared_error\"])"
   ]
  },
  {
   "cell_type": "markdown",
   "id": "f3a91880-ee99-479d-94de-77f394c94cbe",
   "metadata": {},
   "source": [
    "### MSE"
   ]
  },
  {
   "cell_type": "code",
   "execution_count": 51,
   "id": "602b844e-7101-4bb6-8ac3-117fc8bcab90",
   "metadata": {},
   "outputs": [
    {
     "data": {
      "text/plain": [
       "49723.89457367148"
      ]
     },
     "execution_count": 51,
     "metadata": {},
     "output_type": "execute_result"
    }
   ],
   "source": [
    "np.sqrt(np.mean(comparison_table[\"squared_error\"]))"
   ]
  },
  {
   "cell_type": "code",
   "execution_count": 52,
   "id": "b7d3a6e7-3347-4c60-a11f-ab9d2e479743",
   "metadata": {},
   "outputs": [
    {
     "data": {
      "text/plain": [
       "0    33052.227310\n",
       "1    18913.915948\n",
       "2    61052.994657\n",
       "3      880.752093\n",
       "4   -44629.304294\n",
       "5    47268.805776\n",
       "6   -39486.364930\n",
       "7    48409.358238\n",
       "8    79609.827138\n",
       "9    71272.355999\n",
       "dtype: float64"
      ]
     },
     "execution_count": 52,
     "metadata": {},
     "output_type": "execute_result"
    }
   ],
   "source": [
    "model.resid[0:10]"
   ]
  },
  {
   "cell_type": "code",
   "execution_count": 53,
   "id": "7b169eaa-76bf-4e1d-855d-94bd8ff45382",
   "metadata": {
    "scrolled": true
   },
   "outputs": [
    {
     "data": {
      "text/plain": [
       "[<matplotlib.lines.Line2D at 0x23e57f86490>]"
      ]
     },
     "execution_count": 53,
     "metadata": {},
     "output_type": "execute_result"
    },
    {
     "data": {
      "image/png": "[encoded data removed]",
      "text/plain": [
       "<Figure size 640x480 with 1 Axes>"
      ]
     },
     "metadata": {},
     "output_type": "display_data"
    }
   ],
   "source": [
    "plt.plot(model.resid)"
   ]
  }
 ],
 "metadata": {
  "kernelspec": {
   "display_name": "Python 3 (ipykernel)",
   "language": "python",
   "name": "python3"
  },
  "language_info": {
   "codemirror_mode": {
    "name": "ipython",
    "version": 3
   },
   "file_extension": ".py",
   "mimetype": "text/x-python",
   "name": "python",
   "nbconvert_exporter": "python",
   "pygments_lexer": "ipython3",
   "version": "3.9.20"
  }
 },
 "nbformat": 4,
 "nbformat_minor": 5
}
